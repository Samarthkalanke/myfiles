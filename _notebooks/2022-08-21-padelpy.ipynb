{
  "nbformat": 4,
  "nbformat_minor": 0,
  "metadata": {
    "colab": {
      "name": "2022-08-21-padelpy.ipynb",
      "provenance": []
    },
    "kernelspec": {
      "name": "python3",
      "display_name": "Python 3"
    },
    "language_info": {
      "name": "python"
    }
  },
  "cells": [
    {
      "cell_type": "code",
      "execution_count": 1,
      "metadata": {
        "colab": {
          "base_uri": "https://localhost:8080/",
          "height": 130
        },
        "id": "9cPG3Rwp208E",
        "outputId": "cef18ad5-6e9c-40f9-9820-84d12935aabd"
      },
      "outputs": [
        {
          "output_type": "error",
          "ename": "SyntaxError",
          "evalue": "ignored",
          "traceback": [
            "\u001b[0;36m  File \u001b[0;32m\"<ipython-input-1-0100e4a83d60>\"\u001b[0;36m, line \u001b[0;32m3\u001b[0m\n\u001b[0;31m    > My first Jupter Notebook utilizing some Python!\u001b[0m\n\u001b[0m    ^\u001b[0m\n\u001b[0;31mSyntaxError\u001b[0m\u001b[0;31m:\u001b[0m invalid syntax\n"
          ]
        }
      ],
      "source": [
        "# First Jupyter Notebook and some Python Code\n",
        "\n",
        "> My first Jupter Notebook utilizing some Python!\n",
        "\n",
        "- toc: true\n",
        "- badges: true\n",
        "- comments: true\n",
        "- categories: [bioinformatics, cheminformatics, padelpy, scikit-learn, QSAR, QSPR]\n",
        "- image: images/padelpy.png\n"
      ]
    }
  ]
}